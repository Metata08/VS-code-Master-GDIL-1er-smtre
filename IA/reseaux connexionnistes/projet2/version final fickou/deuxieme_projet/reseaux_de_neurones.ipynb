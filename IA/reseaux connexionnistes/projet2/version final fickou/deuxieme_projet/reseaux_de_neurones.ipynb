{
 "cells": [
  {
   "cell_type": "code",
   "execution_count": 1,
   "metadata": {},
   "outputs": [],
   "source": [
    "import numpy as np\n",
    "import pandas as pd\n",
    "from sklearn.preprocessing import MinMaxScaler, LabelEncoder\n",
    "from keras.models import Sequential\n",
    "from keras.layers import Dense\n",
    "from sklearn.metrics import confusion_matrix, ConfusionMatrixDisplay\n",
    "import matplotlib.pyplot as plt\n",
    "import joblib #pour sauvergarder la normalisation\n",
    "import pickle\n"
   ]
  },
  {
   "cell_type": "code",
   "execution_count": 2,
   "metadata": {},
   "outputs": [],
   "source": [
    "#Chargement des données\n",
    "donnees = pd.read_csv(r'Rice_Cammeo_Osmancik.csv')"
   ]
  },
  {
   "cell_type": "code",
   "execution_count": 3,
   "metadata": {},
   "outputs": [],
   "source": [
    "#Séparation des caractéristiques (X) et les étiquettes (y)\n",
    "X = donnees.drop('Class', axis=1)\n",
    "y = donnees['Class']"
   ]
  },
  {
   "cell_type": "code",
   "execution_count": 4,
   "metadata": {},
   "outputs": [
    {
     "data": {
      "text/plain": [
       "['Normalisation.pkl']"
      ]
     },
     "execution_count": 4,
     "metadata": {},
     "output_type": "execute_result"
    }
   ],
   "source": [
    "#la normalisation\n",
    "Norm = MinMaxScaler()\n",
    "X_Norm = Norm.fit_transform(X)\n",
    "\n",
    "#sauvegarde de la normalisation \n",
    "joblib.dump(Norm,'Normalisation.pkl')"
   ]
  },
  {
   "cell_type": "code",
   "execution_count": 5,
   "metadata": {},
   "outputs": [],
   "source": [
    "#Encodage des étiquettes pour les transformer en valeurs numériques\n",
    "Encode = LabelEncoder()\n",
    "y_Encode = Encode.fit_transform(y)"
   ]
  },
  {
   "cell_type": "code",
   "execution_count": 6,
   "metadata": {},
   "outputs": [
    {
     "name": "stderr",
     "output_type": "stream",
     "text": [
      "2024-09-25 11:51:13.066521: I tensorflow/core/common_runtime/process_util.cc:146] Creating new thread pool with default inter op setting: 2. Tune using inter_op_parallelism_threads for best performance.\n"
     ]
    }
   ],
   "source": [
    "#création du model de réseau de neurones\n",
    "model = Sequential()\n",
    "\n",
    "#Ajout de la première couche cachée avec 64 neurones et la fonction d'activation 'relu'\n",
    "model.add(Dense(64, activation='relu'))\n",
    "#Ajout de la deuxième couche cachée avec 32 neurones et la fonction d'activation 'relu'\n",
    "model.add(Dense(32, activation='relu'))\n",
    "#Ajout de la couche de sortie avec autant de neurones que de classes, activation 'softmax' pour la classification multicatégorielle\n",
    "model.add(Dense(len(Encode.classes_), activation='softmax'))"
   ]
  },
  {
   "cell_type": "code",
   "execution_count": 7,
   "metadata": {},
   "outputs": [],
   "source": [
    "#Compilation du modèle avec la fonction de perte, l'optimiseur, et la métrique d'évaluation\n",
    "model.compile(loss='sparse_categorical_crossentropy', optimizer='adam', metrics=['accuracy'])"
   ]
  },
  {
   "cell_type": "code",
   "execution_count": 8,
   "metadata": {},
   "outputs": [
    {
     "name": "stdout",
     "output_type": "stream",
     "text": [
      "Epoch 1/50\n",
      "96/96 [==============================] - 8s 29ms/step - loss: 0.5492 - accuracy: 0.7136 - val_loss: 0.4817 - val_accuracy: 0.8150\n",
      "Epoch 2/50\n",
      "96/96 [==============================] - 3s 32ms/step - loss: 0.3148 - accuracy: 0.8927 - val_loss: 0.2677 - val_accuracy: 0.9081\n",
      "Epoch 3/50\n",
      "96/96 [==============================] - 2s 26ms/step - loss: 0.2260 - accuracy: 0.9167 - val_loss: 0.2237 - val_accuracy: 0.9213\n",
      "Epoch 4/50\n",
      "96/96 [==============================] - 3s 30ms/step - loss: 0.2047 - accuracy: 0.9209 - val_loss: 0.2139 - val_accuracy: 0.9226\n",
      "Epoch 5/50\n",
      "96/96 [==============================] - 1s 13ms/step - loss: 0.1905 - accuracy: 0.9281 - val_loss: 0.2491 - val_accuracy: 0.8963\n",
      "Epoch 6/50\n",
      "96/96 [==============================] - 1s 11ms/step - loss: 0.1861 - accuracy: 0.9278 - val_loss: 0.2543 - val_accuracy: 0.8885\n",
      "Epoch 7/50\n",
      "96/96 [==============================] - 1s 11ms/step - loss: 0.1858 - accuracy: 0.9304 - val_loss: 0.2081 - val_accuracy: 0.9173\n",
      "Epoch 8/50\n",
      "96/96 [==============================] - 1s 12ms/step - loss: 0.1837 - accuracy: 0.9281 - val_loss: 0.2909 - val_accuracy: 0.8766\n",
      "Epoch 9/50\n",
      "96/96 [==============================] - 1s 14ms/step - loss: 0.1880 - accuracy: 0.9262 - val_loss: 0.3032 - val_accuracy: 0.8714\n",
      "Epoch 10/50\n",
      "96/96 [==============================] - 1s 15ms/step - loss: 0.1841 - accuracy: 0.9304 - val_loss: 0.2640 - val_accuracy: 0.8871\n",
      "Epoch 11/50\n",
      "96/96 [==============================] - 1s 12ms/step - loss: 0.1881 - accuracy: 0.9255 - val_loss: 0.2695 - val_accuracy: 0.8832\n",
      "Epoch 12/50\n",
      "96/96 [==============================] - 1s 13ms/step - loss: 0.1875 - accuracy: 0.9262 - val_loss: 0.2410 - val_accuracy: 0.8963\n",
      "Epoch 13/50\n",
      "96/96 [==============================] - 1s 12ms/step - loss: 0.1830 - accuracy: 0.9272 - val_loss: 0.2007 - val_accuracy: 0.9213\n",
      "Epoch 14/50\n",
      "96/96 [==============================] - 1s 14ms/step - loss: 0.1826 - accuracy: 0.9285 - val_loss: 0.2729 - val_accuracy: 0.8819\n",
      "Epoch 15/50\n",
      "96/96 [==============================] - 1s 12ms/step - loss: 0.1836 - accuracy: 0.9245 - val_loss: 0.2204 - val_accuracy: 0.9081\n",
      "Epoch 16/50\n",
      "96/96 [==============================] - 1s 10ms/step - loss: 0.1851 - accuracy: 0.9278 - val_loss: 0.2323 - val_accuracy: 0.8976\n",
      "Epoch 17/50\n",
      "96/96 [==============================] - 1s 10ms/step - loss: 0.1825 - accuracy: 0.9301 - val_loss: 0.3226 - val_accuracy: 0.8635\n",
      "Epoch 18/50\n",
      "96/96 [==============================] - 1s 11ms/step - loss: 0.1840 - accuracy: 0.9304 - val_loss: 0.2565 - val_accuracy: 0.8898\n",
      "Epoch 19/50\n",
      "96/96 [==============================] - 1s 15ms/step - loss: 0.1863 - accuracy: 0.9288 - val_loss: 0.3573 - val_accuracy: 0.8491\n",
      "Epoch 20/50\n",
      "96/96 [==============================] - 1s 14ms/step - loss: 0.1849 - accuracy: 0.9291 - val_loss: 0.1468 - val_accuracy: 0.9462\n",
      "Epoch 21/50\n",
      "96/96 [==============================] - 1s 15ms/step - loss: 0.1828 - accuracy: 0.9291 - val_loss: 0.2038 - val_accuracy: 0.9173\n",
      "Epoch 22/50\n",
      "96/96 [==============================] - 1s 14ms/step - loss: 0.1888 - accuracy: 0.9249 - val_loss: 0.1648 - val_accuracy: 0.9357\n",
      "Epoch 23/50\n",
      "96/96 [==============================] - 2s 20ms/step - loss: 0.1841 - accuracy: 0.9268 - val_loss: 0.1832 - val_accuracy: 0.9252\n",
      "Epoch 24/50\n",
      "96/96 [==============================] - 2s 17ms/step - loss: 0.1851 - accuracy: 0.9301 - val_loss: 0.2722 - val_accuracy: 0.8819\n",
      "Epoch 25/50\n",
      "96/96 [==============================] - 2s 19ms/step - loss: 0.1826 - accuracy: 0.9301 - val_loss: 0.2522 - val_accuracy: 0.8924\n",
      "Epoch 26/50\n",
      "96/96 [==============================] - 2s 24ms/step - loss: 0.1830 - accuracy: 0.9304 - val_loss: 0.2722 - val_accuracy: 0.8832\n",
      "Epoch 27/50\n",
      "96/96 [==============================] - 1s 11ms/step - loss: 0.1835 - accuracy: 0.9268 - val_loss: 0.2806 - val_accuracy: 0.8806\n",
      "Epoch 28/50\n",
      "96/96 [==============================] - 1s 12ms/step - loss: 0.1843 - accuracy: 0.9298 - val_loss: 0.2302 - val_accuracy: 0.8990\n",
      "Epoch 29/50\n",
      "96/96 [==============================] - 1s 13ms/step - loss: 0.1804 - accuracy: 0.9295 - val_loss: 0.2432 - val_accuracy: 0.8963\n",
      "Epoch 30/50\n",
      "96/96 [==============================] - 2s 21ms/step - loss: 0.1826 - accuracy: 0.9285 - val_loss: 0.2009 - val_accuracy: 0.9186\n",
      "Epoch 31/50\n",
      "96/96 [==============================] - 1s 11ms/step - loss: 0.1837 - accuracy: 0.9298 - val_loss: 0.2299 - val_accuracy: 0.8990\n",
      "Epoch 32/50\n",
      "96/96 [==============================] - 3s 28ms/step - loss: 0.1860 - accuracy: 0.9272 - val_loss: 0.2676 - val_accuracy: 0.8845\n",
      "Epoch 33/50\n",
      "96/96 [==============================] - 2s 19ms/step - loss: 0.1822 - accuracy: 0.9278 - val_loss: 0.1435 - val_accuracy: 0.9462\n",
      "Epoch 34/50\n",
      "96/96 [==============================] - 1s 14ms/step - loss: 0.1852 - accuracy: 0.9259 - val_loss: 0.2398 - val_accuracy: 0.8963\n",
      "Epoch 35/50\n",
      "96/96 [==============================] - 1s 11ms/step - loss: 0.1842 - accuracy: 0.9265 - val_loss: 0.3113 - val_accuracy: 0.8648\n",
      "Epoch 36/50\n",
      "96/96 [==============================] - 2s 17ms/step - loss: 0.1860 - accuracy: 0.9278 - val_loss: 0.2902 - val_accuracy: 0.8780\n",
      "Epoch 37/50\n",
      "96/96 [==============================] - 1s 12ms/step - loss: 0.1873 - accuracy: 0.9232 - val_loss: 0.3173 - val_accuracy: 0.8596\n",
      "Epoch 38/50\n",
      "96/96 [==============================] - 1s 11ms/step - loss: 0.1807 - accuracy: 0.9301 - val_loss: 0.2064 - val_accuracy: 0.9147\n",
      "Epoch 39/50\n",
      "96/96 [==============================] - 1s 14ms/step - loss: 0.1831 - accuracy: 0.9275 - val_loss: 0.2064 - val_accuracy: 0.9147\n",
      "Epoch 40/50\n",
      "96/96 [==============================] - 1s 13ms/step - loss: 0.1839 - accuracy: 0.9295 - val_loss: 0.1712 - val_accuracy: 0.9304\n",
      "Epoch 41/50\n",
      "96/96 [==============================] - 1s 12ms/step - loss: 0.1824 - accuracy: 0.9278 - val_loss: 0.2704 - val_accuracy: 0.8832\n",
      "Epoch 42/50\n",
      "96/96 [==============================] - 1s 11ms/step - loss: 0.1820 - accuracy: 0.9311 - val_loss: 0.3283 - val_accuracy: 0.8570\n",
      "Epoch 43/50\n",
      "96/96 [==============================] - 1s 11ms/step - loss: 0.1852 - accuracy: 0.9236 - val_loss: 0.1857 - val_accuracy: 0.9239\n",
      "Epoch 44/50\n",
      "96/96 [==============================] - 1s 9ms/step - loss: 0.1822 - accuracy: 0.9318 - val_loss: 0.2357 - val_accuracy: 0.8937\n",
      "Epoch 45/50\n",
      "96/96 [==============================] - 1s 10ms/step - loss: 0.1823 - accuracy: 0.9295 - val_loss: 0.2431 - val_accuracy: 0.8924\n",
      "Epoch 46/50\n",
      "96/96 [==============================] - 2s 24ms/step - loss: 0.1834 - accuracy: 0.9272 - val_loss: 0.2446 - val_accuracy: 0.8924\n",
      "Epoch 47/50\n",
      "96/96 [==============================] - 1s 12ms/step - loss: 0.1806 - accuracy: 0.9308 - val_loss: 0.1705 - val_accuracy: 0.9304\n",
      "Epoch 48/50\n",
      "96/96 [==============================] - 1s 11ms/step - loss: 0.1840 - accuracy: 0.9295 - val_loss: 0.2143 - val_accuracy: 0.9108\n",
      "Epoch 49/50\n",
      "96/96 [==============================] - 1s 13ms/step - loss: 0.1824 - accuracy: 0.9281 - val_loss: 0.2518 - val_accuracy: 0.8885\n",
      "Epoch 50/50\n",
      "96/96 [==============================] - 1s 16ms/step - loss: 0.1807 - accuracy: 0.9285 - val_loss: 0.2175 - val_accuracy: 0.9068\n"
     ]
    }
   ],
   "source": [
    "#Entraînement du modèle avec les données normalisées, 50 époques, taille de batch de 32, et 20% des données pour la validation\n",
    "entrainement_model = model.fit(X_Norm, y_Encode, epochs=50, batch_size=32, validation_split=0.2)"
   ]
  },
  {
   "cell_type": "code",
   "execution_count": 9,
   "metadata": {},
   "outputs": [
    {
     "name": "stdout",
     "output_type": "stream",
     "text": [
      "Model: \"sequential\"\n",
      "_________________________________________________________________\n",
      " Layer (type)                Output Shape              Param #   \n",
      "=================================================================\n",
      " dense (Dense)               (None, 64)                512       \n",
      "                                                                 \n",
      " dense_1 (Dense)             (None, 32)                2080      \n",
      "                                                                 \n",
      " dense_2 (Dense)             (None, 2)                 66        \n",
      "                                                                 \n",
      "=================================================================\n",
      "Total params: 2,658\n",
      "Trainable params: 2,658\n",
      "Non-trainable params: 0\n",
      "_________________________________________________________________\n"
     ]
    }
   ],
   "source": [
    "#Affichage du résumé du modèle pour visualiser la structure des couches et des paramètres\n",
    "model.summary()"
   ]
  },
  {
   "cell_type": "code",
   "execution_count": 10,
   "metadata": {},
   "outputs": [
    {
     "name": "stdout",
     "output_type": "stream",
     "text": [
      "\n",
      "Précision finale sur l'entraînement : 92.85%\n",
      "Précision finale sur la validation : 90.68%\n"
     ]
    }
   ],
   "source": [
    "#Extraction de la précision finale sur l'entraînement et la validation\n",
    "train_accuracy = entrainement_model.history['accuracy'][-1] * 100\n",
    "val_accuracy = entrainement_model.history['val_accuracy'][-1] * 100\n",
    "\n",
    "print(f\"\\nPrécision finale sur l'entraînement : {train_accuracy:.2f}%\")\n",
    "print(f\"Précision finale sur la validation : {val_accuracy:.2f}%\")"
   ]
  },
  {
   "cell_type": "code",
   "execution_count": 11,
   "metadata": {},
   "outputs": [
    {
     "name": "stdout",
     "output_type": "stream",
     "text": [
      "  7/120 [>.............................] - ETA: 0s "
     ]
    },
    {
     "name": "stdout",
     "output_type": "stream",
     "text": [
      "120/120 [==============================] - 2s 11ms/step\n"
     ]
    },
    {
     "data": {
      "image/png": "[encoded data removed]",
      "text/plain": [
       "<Figure size 640x480 with 2 Axes>"
      ]
     },
     "metadata": {},
     "output_type": "display_data"
    }
   ],
   "source": [
    "#Prédiction des classes pour les données normalisées\n",
    "y_pred = model.predict(X_Norm)\n",
    "\n",
    "#Conversion des prédictions en classes (indice de la classe ayant la plus grande probabilité)\n",
    "y_pred_classes = np.argmax(y_pred, axis=1)\n",
    "\n",
    "#Calcul et affichage de la matrice de confusion pour évaluer les performances du modèle\n",
    "matrice = confusion_matrix(y_Encode, y_pred_classes)\n",
    "\n",
    "#Affichage de la matrice de confusion\n",
    "disp = ConfusionMatrixDisplay(confusion_matrix=matrice, display_labels=Encode.classes_)\n",
    "disp.plot(cmap=plt.cm.Blues)\n",
    "plt.show()"
   ]
  },
  {
   "cell_type": "code",
   "execution_count": 12,
   "metadata": {},
   "outputs": [
    {
     "name": "stdout",
     "output_type": "stream",
     "text": [
      "Modèle sauvegardé avec succès !\n"
     ]
    }
   ],
   "source": [
    "# Sauvegarder le modèle entraîné\n",
    "# model.save(\"modele_classification.h5\")\n",
    "with open('model_rice.pkl', 'wb') as f:\n",
    "    pickle.dump(model, f)\n",
    "print(\"Modèle sauvegardé avec succès !\")"
   ]
  }
 ],
 "metadata": {
  "kernelspec": {
   "display_name": "Python 3",
   "language": "python",
   "name": "python3"
  },
  "language_info": {
   "codemirror_mode": {
    "name": "ipython",
    "version": 3
   },
   "file_extension": ".py",
   "mimetype": "text/x-python",
   "name": "python",
   "nbconvert_exporter": "python",
   "pygments_lexer": "ipython3",
   "version": "3.10.13"
  }
 },
 "nbformat": 4,
 "nbformat_minor": 2
}
