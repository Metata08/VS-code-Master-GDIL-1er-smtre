{
 "cells": [
  {
   "cell_type": "code",
   "execution_count": 20,
   "metadata": {},
   "outputs": [],
   "source": [
    "import numpy as np\n",
    "import pandas as pd\n",
    "from sklearn.preprocessing import MinMaxScaler, LabelEncoder\n",
    "from keras.models import Sequential\n",
    "from keras.layers import Dense\n",
    "from sklearn.metrics import confusion_matrix, ConfusionMatrixDisplay\n",
    "import matplotlib.pyplot as plt\n",
    "import joblib #pour sauvergarder la normalisation\n",
    "import pickle\n"
   ]
  },
  {
   "cell_type": "markdown",
   "metadata": {},
   "source": []
  },
  {
   "cell_type": "code",
   "execution_count": 8,
   "metadata": {},
   "outputs": [],
   "source": [
    "#Chargement des données\n",
    "donnees = pd.read_csv(r'Rice_Cammeo_Osmancik.csv')"
   ]
  },
  {
   "cell_type": "code",
   "execution_count": 9,
   "metadata": {},
   "outputs": [],
   "source": [
    "#Séparation des caractéristiques (X) et les étiquettes (y)\n",
    "X = donnees.drop('Class', axis=1)\n",
    "y = donnees['Class']"
   ]
  },
  {
   "cell_type": "code",
   "execution_count": 10,
   "metadata": {},
   "outputs": [
    {
     "data": {
      "text/plain": [
       "['Normalisation.pkl']"
      ]
     },
     "execution_count": 10,
     "metadata": {},
     "output_type": "execute_result"
    }
   ],
   "source": [
    "#la normalisation\n",
    "Norm = MinMaxScaler()\n",
    "X_Norm = Norm.fit_transform(X)\n",
    "\n",
    "#sauvegarde\n",
    "joblib.dump(Norm,'Normalisation.pkl')"
   ]
  },
  {
   "cell_type": "code",
   "execution_count": 11,
   "metadata": {},
   "outputs": [],
   "source": [
    "#Encodage des étiquettes pour les transformer en valeurs numériques\n",
    "Encode = LabelEncoder()\n",
    "y_Encode = Encode.fit_transform(y)"
   ]
  },
  {
   "cell_type": "code",
   "execution_count": 12,
   "metadata": {},
   "outputs": [
    {
     "name": "stderr",
     "output_type": "stream",
     "text": [
      "2024-09-08 15:24:12.347542: I tensorflow/core/common_runtime/process_util.cc:146] Creating new thread pool with default inter op setting: 2. Tune using inter_op_parallelism_threads for best performance.\n"
     ]
    }
   ],
   "source": [
    "#création du model de réseau de neurones\n",
    "model = Sequential()\n",
    "\n",
    "#Ajout de la première couche cachée avec 64 neurones et la fonction d'activation 'relu'\n",
    "model.add(Dense(64, activation='relu'))\n",
    "#Ajout de la deuxième couche cachée avec 32 neurones et la fonction d'activation 'relu'\n",
    "model.add(Dense(32, activation='relu'))\n",
    "#Ajout de la couche de sortie avec autant de neurones que de classes, activation 'softmax' pour la classification multicatégorielle\n",
    "model.add(Dense(len(Encode.classes_), activation='softmax'))"
   ]
  },
  {
   "cell_type": "code",
   "execution_count": 13,
   "metadata": {},
   "outputs": [],
   "source": [
    "#Compilation du modèle avec la fonction de perte, l'optimiseur, et la métrique d'évaluation\n",
    "model.compile(loss='sparse_categorical_crossentropy', optimizer='adam', metrics=['accuracy'])"
   ]
  },
  {
   "cell_type": "code",
   "execution_count": 14,
   "metadata": {},
   "outputs": [
    {
     "name": "stdout",
     "output_type": "stream",
     "text": [
      "Epoch 1/50\n",
      "96/96 [==============================] - 3s 20ms/step - loss: 0.5149 - accuracy: 0.7589 - val_loss: 0.4156 - val_accuracy: 0.8517\n",
      "Epoch 2/50\n",
      "96/96 [==============================] - 2s 17ms/step - loss: 0.2794 - accuracy: 0.9035 - val_loss: 0.3351 - val_accuracy: 0.8714\n",
      "Epoch 3/50\n",
      "96/96 [==============================] - 1s 15ms/step - loss: 0.2118 - accuracy: 0.9199 - val_loss: 0.3202 - val_accuracy: 0.8648\n",
      "Epoch 4/50\n",
      "96/96 [==============================] - 1s 14ms/step - loss: 0.1922 - accuracy: 0.9285 - val_loss: 0.1978 - val_accuracy: 0.9291\n",
      "Epoch 5/50\n",
      "96/96 [==============================] - 1s 12ms/step - loss: 0.1876 - accuracy: 0.9295 - val_loss: 0.2383 - val_accuracy: 0.8963\n",
      "Epoch 6/50\n",
      "96/96 [==============================] - 2s 16ms/step - loss: 0.1884 - accuracy: 0.9272 - val_loss: 0.2236 - val_accuracy: 0.9081\n",
      "Epoch 7/50\n",
      "96/96 [==============================] - 1s 10ms/step - loss: 0.1849 - accuracy: 0.9249 - val_loss: 0.2944 - val_accuracy: 0.8740\n",
      "Epoch 8/50\n",
      "96/96 [==============================] - 1s 11ms/step - loss: 0.1835 - accuracy: 0.9304 - val_loss: 0.2728 - val_accuracy: 0.8806\n",
      "Epoch 9/50\n",
      "96/96 [==============================] - 1s 11ms/step - loss: 0.1840 - accuracy: 0.9321 - val_loss: 0.2385 - val_accuracy: 0.8963\n",
      "Epoch 10/50\n",
      "96/96 [==============================] - 1s 8ms/step - loss: 0.1872 - accuracy: 0.9265 - val_loss: 0.2733 - val_accuracy: 0.8806\n",
      "Epoch 11/50\n",
      "96/96 [==============================] - 1s 13ms/step - loss: 0.1832 - accuracy: 0.9295 - val_loss: 0.3013 - val_accuracy: 0.8701\n",
      "Epoch 12/50\n",
      "96/96 [==============================] - 1s 13ms/step - loss: 0.1856 - accuracy: 0.9272 - val_loss: 0.2251 - val_accuracy: 0.9055\n",
      "Epoch 13/50\n",
      "96/96 [==============================] - 1s 15ms/step - loss: 0.1824 - accuracy: 0.9295 - val_loss: 0.2201 - val_accuracy: 0.9081\n",
      "Epoch 14/50\n",
      "96/96 [==============================] - 1s 10ms/step - loss: 0.1836 - accuracy: 0.9304 - val_loss: 0.3413 - val_accuracy: 0.8570\n",
      "Epoch 15/50\n",
      "96/96 [==============================] - 1s 12ms/step - loss: 0.1819 - accuracy: 0.9291 - val_loss: 0.2468 - val_accuracy: 0.8924\n",
      "Epoch 16/50\n",
      "96/96 [==============================] - 1s 16ms/step - loss: 0.1852 - accuracy: 0.9288 - val_loss: 0.2472 - val_accuracy: 0.8950\n",
      "Epoch 17/50\n",
      "96/96 [==============================] - 1s 15ms/step - loss: 0.1822 - accuracy: 0.9259 - val_loss: 0.2438 - val_accuracy: 0.8950\n",
      "Epoch 18/50\n",
      "96/96 [==============================] - 2s 16ms/step - loss: 0.1841 - accuracy: 0.9285 - val_loss: 0.1929 - val_accuracy: 0.9226\n",
      "Epoch 19/50\n",
      "96/96 [==============================] - 1s 7ms/step - loss: 0.1846 - accuracy: 0.9268 - val_loss: 0.2228 - val_accuracy: 0.9068\n",
      "Epoch 20/50\n",
      "96/96 [==============================] - 1s 11ms/step - loss: 0.1829 - accuracy: 0.9259 - val_loss: 0.2150 - val_accuracy: 0.9147\n",
      "Epoch 21/50\n",
      "96/96 [==============================] - 1s 12ms/step - loss: 0.1824 - accuracy: 0.9295 - val_loss: 0.2974 - val_accuracy: 0.8714\n",
      "Epoch 22/50\n",
      "96/96 [==============================] - 1s 13ms/step - loss: 0.1868 - accuracy: 0.9259 - val_loss: 0.2890 - val_accuracy: 0.8740\n",
      "Epoch 23/50\n",
      "96/96 [==============================] - 1s 15ms/step - loss: 0.1811 - accuracy: 0.9298 - val_loss: 0.2485 - val_accuracy: 0.8937\n",
      "Epoch 24/50\n",
      "96/96 [==============================] - 1s 11ms/step - loss: 0.1891 - accuracy: 0.9222 - val_loss: 0.3072 - val_accuracy: 0.8661\n",
      "Epoch 25/50\n",
      "96/96 [==============================] - 1s 10ms/step - loss: 0.1908 - accuracy: 0.9236 - val_loss: 0.2508 - val_accuracy: 0.8924\n",
      "Epoch 26/50\n",
      "96/96 [==============================] - 1s 10ms/step - loss: 0.1830 - accuracy: 0.9272 - val_loss: 0.2506 - val_accuracy: 0.8924\n",
      "Epoch 27/50\n",
      "96/96 [==============================] - 1s 8ms/step - loss: 0.1820 - accuracy: 0.9259 - val_loss: 0.2536 - val_accuracy: 0.8898\n",
      "Epoch 28/50\n",
      "96/96 [==============================] - 1s 12ms/step - loss: 0.1835 - accuracy: 0.9311 - val_loss: 0.1883 - val_accuracy: 0.9239\n",
      "Epoch 29/50\n",
      "96/96 [==============================] - 1s 10ms/step - loss: 0.1845 - accuracy: 0.9281 - val_loss: 0.2473 - val_accuracy: 0.8950\n",
      "Epoch 30/50\n",
      "96/96 [==============================] - 1s 9ms/step - loss: 0.1826 - accuracy: 0.9298 - val_loss: 0.2326 - val_accuracy: 0.9003\n",
      "Epoch 31/50\n",
      "96/96 [==============================] - 1s 9ms/step - loss: 0.1831 - accuracy: 0.9285 - val_loss: 0.2247 - val_accuracy: 0.9055\n",
      "Epoch 32/50\n",
      "96/96 [==============================] - 1s 12ms/step - loss: 0.1819 - accuracy: 0.9272 - val_loss: 0.2337 - val_accuracy: 0.9016\n",
      "Epoch 33/50\n",
      "96/96 [==============================] - 1s 10ms/step - loss: 0.1829 - accuracy: 0.9265 - val_loss: 0.2934 - val_accuracy: 0.8727\n",
      "Epoch 34/50\n",
      "96/96 [==============================] - 1s 10ms/step - loss: 0.1810 - accuracy: 0.9275 - val_loss: 0.2506 - val_accuracy: 0.8924\n",
      "Epoch 35/50\n",
      "96/96 [==============================] - 1s 11ms/step - loss: 0.1852 - accuracy: 0.9275 - val_loss: 0.2221 - val_accuracy: 0.9055\n",
      "Epoch 36/50\n",
      "96/96 [==============================] - 1s 12ms/step - loss: 0.1816 - accuracy: 0.9301 - val_loss: 0.1895 - val_accuracy: 0.9226\n",
      "Epoch 37/50\n",
      "96/96 [==============================] - 1s 8ms/step - loss: 0.1807 - accuracy: 0.9295 - val_loss: 0.2202 - val_accuracy: 0.9081\n",
      "Epoch 38/50\n",
      "96/96 [==============================] - 1s 10ms/step - loss: 0.1823 - accuracy: 0.9285 - val_loss: 0.2111 - val_accuracy: 0.9134\n",
      "Epoch 39/50\n",
      "96/96 [==============================] - 1s 8ms/step - loss: 0.1817 - accuracy: 0.9285 - val_loss: 0.3123 - val_accuracy: 0.8622\n",
      "Epoch 40/50\n",
      "96/96 [==============================] - 1s 8ms/step - loss: 0.1828 - accuracy: 0.9298 - val_loss: 0.1954 - val_accuracy: 0.9186\n",
      "Epoch 41/50\n",
      "96/96 [==============================] - 1s 9ms/step - loss: 0.1823 - accuracy: 0.9301 - val_loss: 0.2507 - val_accuracy: 0.8898\n",
      "Epoch 42/50\n",
      "96/96 [==============================] - 1s 13ms/step - loss: 0.1812 - accuracy: 0.9268 - val_loss: 0.2403 - val_accuracy: 0.8990\n",
      "Epoch 43/50\n",
      "96/96 [==============================] - 1s 10ms/step - loss: 0.1840 - accuracy: 0.9291 - val_loss: 0.2379 - val_accuracy: 0.9003\n",
      "Epoch 44/50\n",
      "96/96 [==============================] - 1s 12ms/step - loss: 0.1817 - accuracy: 0.9281 - val_loss: 0.1889 - val_accuracy: 0.9226\n",
      "Epoch 45/50\n",
      "96/96 [==============================] - 1s 11ms/step - loss: 0.1861 - accuracy: 0.9288 - val_loss: 0.2010 - val_accuracy: 0.9199\n",
      "Epoch 46/50\n",
      "96/96 [==============================] - 1s 9ms/step - loss: 0.1812 - accuracy: 0.9281 - val_loss: 0.2262 - val_accuracy: 0.9016\n",
      "Epoch 47/50\n",
      "96/96 [==============================] - 1s 11ms/step - loss: 0.1808 - accuracy: 0.9278 - val_loss: 0.2561 - val_accuracy: 0.8898\n",
      "Epoch 48/50\n",
      "96/96 [==============================] - 1s 12ms/step - loss: 0.1803 - accuracy: 0.9321 - val_loss: 0.2477 - val_accuracy: 0.8911\n",
      "Epoch 49/50\n",
      "96/96 [==============================] - 1s 12ms/step - loss: 0.1815 - accuracy: 0.9249 - val_loss: 0.2317 - val_accuracy: 0.9016\n",
      "Epoch 50/50\n",
      "96/96 [==============================] - 1s 11ms/step - loss: 0.1829 - accuracy: 0.9281 - val_loss: 0.2334 - val_accuracy: 0.9016\n"
     ]
    }
   ],
   "source": [
    "#Entraînement du modèle avec les données normalisées, 50 époques, taille de batch de 32, et 20% des données pour la validation\n",
    "entrainement_model = model.fit(X_Norm, y_Encode, epochs=50, batch_size=32, validation_split=0.2)"
   ]
  },
  {
   "cell_type": "code",
   "execution_count": 15,
   "metadata": {},
   "outputs": [
    {
     "name": "stdout",
     "output_type": "stream",
     "text": [
      "Model: \"sequential\"\n",
      "_________________________________________________________________\n",
      " Layer (type)                Output Shape              Param #   \n",
      "=================================================================\n",
      " dense (Dense)               (None, 64)                512       \n",
      "                                                                 \n",
      " dense_1 (Dense)             (None, 32)                2080      \n",
      "                                                                 \n",
      " dense_2 (Dense)             (None, 2)                 66        \n",
      "                                                                 \n",
      "=================================================================\n",
      "Total params: 2,658\n",
      "Trainable params: 2,658\n",
      "Non-trainable params: 0\n",
      "_________________________________________________________________\n"
     ]
    }
   ],
   "source": [
    "#Affichage du résumé du modèle pour visualiser la structure des couches et des paramètres\n",
    "model.summary()"
   ]
  },
  {
   "cell_type": "code",
   "execution_count": 16,
   "metadata": {},
   "outputs": [
    {
     "name": "stdout",
     "output_type": "stream",
     "text": [
      "\n",
      "Précision finale sur l'entraînement : 92.81%\n",
      "Précision finale sur la validation : 90.16%\n"
     ]
    }
   ],
   "source": [
    "#Extraction de la précision finale sur l'entraînement et la validation\n",
    "train_accuracy = entrainement_model.history['accuracy'][-1] * 100\n",
    "val_accuracy = entrainement_model.history['val_accuracy'][-1] * 100\n",
    "\n",
    "print(f\"\\nPrécision finale sur l'entraînement : {train_accuracy:.2f}%\")\n",
    "print(f\"Précision finale sur la validation : {val_accuracy:.2f}%\")"
   ]
  },
  {
   "cell_type": "code",
   "execution_count": 17,
   "metadata": {},
   "outputs": [
    {
     "name": "stdout",
     "output_type": "stream",
     "text": [
      "120/120 [==============================] - 1s 5ms/step\n"
     ]
    },
    {
     "data": {
      "image/png": "[encoded data removed]",
      "text/plain": [
       "<Figure size 640x480 with 2 Axes>"
      ]
     },
     "metadata": {},
     "output_type": "display_data"
    }
   ],
   "source": [
    "#Prédiction des classes pour les données normalisées\n",
    "y_pred = model.predict(X_Norm)\n",
    "\n",
    "#Conversion des prédictions en classes (indice de la classe ayant la plus grande probabilité)\n",
    "y_pred_classes = np.argmax(y_pred, axis=1)\n",
    "\n",
    "#Calcul et affichage de la matrice de confusion pour évaluer les performances du modèle\n",
    "matrice = confusion_matrix(y_Encode, y_pred_classes)\n",
    "\n",
    "#Affichage de la matrice de confusion\n",
    "disp = ConfusionMatrixDisplay(confusion_matrix=matrice, display_labels=Encode.classes_)\n",
    "disp.plot(cmap=plt.cm.Blues)\n",
    "plt.show()"
   ]
  },
  {
   "cell_type": "code",
   "execution_count": 22,
   "metadata": {},
   "outputs": [
    {
     "name": "stdout",
     "output_type": "stream",
     "text": [
      "Modèle sauvegardé avec succès !\n"
     ]
    }
   ],
   "source": [
    "# Sauvegarder le modèle entraîné\n",
    "# model.save(\"modele_classification.h5\")\n",
    "with open('model_rice.pkl', 'wb') as f:\n",
    "    pickle.dump(model, f)\n",
    "print(\"Modèle sauvegardé avec succès !\")"
   ]
  }
 ],
 "metadata": {
  "kernelspec": {
   "display_name": "Python 3",
   "language": "python",
   "name": "python3"
  },
  "language_info": {
   "codemirror_mode": {
    "name": "ipython",
    "version": 3
   },
   "file_extension": ".py",
   "mimetype": "text/x-python",
   "name": "python",
   "nbconvert_exporter": "python",
   "pygments_lexer": "ipython3",
   "version": "3.10.13"
  }
 },
 "nbformat": 4,
 "nbformat_minor": 2
}
