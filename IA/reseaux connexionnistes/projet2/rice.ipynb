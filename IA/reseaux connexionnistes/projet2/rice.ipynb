{
 "cells": [
  {
   "cell_type": "code",
   "execution_count": 1,
   "metadata": {},
   "outputs": [
    {
     "name": "stderr",
     "output_type": "stream",
     "text": [
      "Using `tqdm.autonotebook.tqdm` in notebook mode. Use `tqdm.tqdm` instead to force console mode (e.g. in jupyter console)\n"
     ]
    }
   ],
   "source": [
    "# Variable chargée 'df' à partir de l’URI : /home/mg4/Documents/codeblocks/VS code M1 1er smtre/reseaux connexionnistes/projet2/rice+cammeo+and+osmancik/Rice_Cammeo_Osmancik.csv\n",
    "import pandas as pd\n",
    "import numpy as np\n",
    "from tensorflow.keras.models import Sequential\n",
    "from tensorflow.keras.layers import Dense, Dropout\n",
    "from tensorflow.keras.callbacks import TensorBoard\n",
    "from sklearn.model_selection import train_test_split\n",
    "from sklearn.preprocessing import LabelEncoder,StandardScaler\n",
    "from sklearn.metrics import classification_report, confusion_matrix\n",
    "import seaborn as sns\n",
    "import pickle\n",
    "import shap\n",
    "import joblib\n",
    "\n",
    "df = pd.read_csv(r'Rice_Cammeo_Osmancik.csv')"
   ]
  },
  {
   "cell_type": "code",
   "execution_count": 2,
   "metadata": {},
   "outputs": [],
   "source": [
    "label_encoder = LabelEncoder()\n",
    "y_encoded = label_encoder.fit_transform(df['Class'])\n"
   ]
  },
  {
   "cell_type": "code",
   "execution_count": 3,
   "metadata": {},
   "outputs": [],
   "source": [
    "X = df.drop('Class', axis=1)\n",
    "y = y_encoded\n",
    "\n",
    "X_train, X_test, y_train, y_test = train_test_split(X, y, test_size=0.2, random_state=42)\n"
   ]
  },
  {
   "cell_type": "code",
   "execution_count": 4,
   "metadata": {},
   "outputs": [
    {
     "data": {
      "text/plain": [
       "['Normalisation.pkl']"
      ]
     },
     "execution_count": 4,
     "metadata": {},
     "output_type": "execute_result"
    }
   ],
   "source": [
    "\n",
    "scaler = StandardScaler()\n",
    "X_train = scaler.fit_transform(X_train)\n",
    "X_test = scaler.transform(X_test)\n",
    "\n",
    "#sauvegarde\n",
    "joblib.dump(scaler,'Normalisation.pkl')"
   ]
  },
  {
   "cell_type": "code",
   "execution_count": 5,
   "metadata": {},
   "outputs": [
    {
     "name": "stderr",
     "output_type": "stream",
     "text": [
      "2024-09-25 21:22:08.452308: I tensorflow/core/common_runtime/process_util.cc:146] Creating new thread pool with default inter op setting: 2. Tune using inter_op_parallelism_threads for best performance.\n"
     ]
    }
   ],
   "source": [
    "model = Sequential()\n",
    "\n",
    "# Ajoute la première couche cachée\n",
    "model.add(Dense(64, input_dim=X_train.shape[1], activation='relu'))\n",
    "\n",
    "# Ajoute d'autres couches cachées si nécessaire\n",
    "model.add(Dense(32, activation='relu'))\n",
    "model.add(Dropout(0.5))  # Ajoute du dropout pour éviter le surapprentissage\n",
    "\n",
    "# Ajoute la couche de sortie\n",
    "model.add(Dense(1, activation='sigmoid'))  # Utilise 'softmax' pour plus de deux classes\n"
   ]
  },
  {
   "cell_type": "code",
   "execution_count": 6,
   "metadata": {},
   "outputs": [],
   "source": [
    "model.compile(loss='binary_crossentropy',  # Utilise 'categorical_crossentropy' pour plus de deux classes\n",
    "              optimizer='adam',\n",
    "              metrics=['accuracy'])\n"
   ]
  },
  {
   "cell_type": "code",
   "execution_count": 7,
   "metadata": {},
   "outputs": [
    {
     "name": "stdout",
     "output_type": "stream",
     "text": [
      "Epoch 1/20\n",
      "96/96 [==============================] - 8s 35ms/step - loss: 0.3936 - accuracy: 0.8337 - val_loss: 0.1930 - val_accuracy: 0.9186\n",
      "Epoch 2/20\n",
      "96/96 [==============================] - 4s 38ms/step - loss: 0.2150 - accuracy: 0.9193 - val_loss: 0.1733 - val_accuracy: 0.9252\n",
      "Epoch 3/20\n",
      "96/96 [==============================] - 4s 39ms/step - loss: 0.2125 - accuracy: 0.9249 - val_loss: 0.1720 - val_accuracy: 0.9278\n",
      "Epoch 4/20\n",
      "96/96 [==============================] - 3s 34ms/step - loss: 0.2008 - accuracy: 0.9262 - val_loss: 0.1736 - val_accuracy: 0.9278\n",
      "Epoch 5/20\n",
      "96/96 [==============================] - 4s 41ms/step - loss: 0.2010 - accuracy: 0.9265 - val_loss: 0.1698 - val_accuracy: 0.9278\n",
      "Epoch 6/20\n",
      "96/96 [==============================] - 4s 38ms/step - loss: 0.1970 - accuracy: 0.9281 - val_loss: 0.1713 - val_accuracy: 0.9278\n",
      "Epoch 7/20\n",
      "96/96 [==============================] - 3s 27ms/step - loss: 0.1949 - accuracy: 0.9288 - val_loss: 0.1701 - val_accuracy: 0.9278\n",
      "Epoch 8/20\n",
      "96/96 [==============================] - 2s 24ms/step - loss: 0.1998 - accuracy: 0.9298 - val_loss: 0.1715 - val_accuracy: 0.9291\n",
      "Epoch 9/20\n",
      "96/96 [==============================] - 3s 36ms/step - loss: 0.1982 - accuracy: 0.9311 - val_loss: 0.1699 - val_accuracy: 0.9278\n",
      "Epoch 10/20\n",
      "96/96 [==============================] - 4s 37ms/step - loss: 0.1969 - accuracy: 0.9288 - val_loss: 0.1708 - val_accuracy: 0.9265\n",
      "Epoch 11/20\n",
      "96/96 [==============================] - 5s 49ms/step - loss: 0.1993 - accuracy: 0.9272 - val_loss: 0.1727 - val_accuracy: 0.9278\n",
      "Epoch 12/20\n",
      "96/96 [==============================] - 3s 34ms/step - loss: 0.1963 - accuracy: 0.9265 - val_loss: 0.1727 - val_accuracy: 0.9291\n",
      "Epoch 13/20\n",
      "96/96 [==============================] - 3s 28ms/step - loss: 0.1912 - accuracy: 0.9295 - val_loss: 0.1699 - val_accuracy: 0.9278\n",
      "Epoch 14/20\n",
      "96/96 [==============================] - 5s 52ms/step - loss: 0.1933 - accuracy: 0.9259 - val_loss: 0.1700 - val_accuracy: 0.9278\n",
      "Epoch 15/20\n",
      "96/96 [==============================] - 3s 32ms/step - loss: 0.1943 - accuracy: 0.9281 - val_loss: 0.1723 - val_accuracy: 0.9291\n",
      "Epoch 16/20\n",
      "96/96 [==============================] - 3s 30ms/step - loss: 0.1896 - accuracy: 0.9291 - val_loss: 0.1702 - val_accuracy: 0.9278\n",
      "Epoch 17/20\n",
      "96/96 [==============================] - 3s 28ms/step - loss: 0.1950 - accuracy: 0.9291 - val_loss: 0.1740 - val_accuracy: 0.9252\n",
      "Epoch 18/20\n",
      "96/96 [==============================] - 4s 45ms/step - loss: 0.1930 - accuracy: 0.9295 - val_loss: 0.1717 - val_accuracy: 0.9304\n",
      "Epoch 19/20\n",
      "96/96 [==============================] - 4s 45ms/step - loss: 0.1912 - accuracy: 0.9301 - val_loss: 0.1712 - val_accuracy: 0.9278\n",
      "Epoch 20/20\n",
      "96/96 [==============================] - 4s 45ms/step - loss: 0.1922 - accuracy: 0.9291 - val_loss: 0.1696 - val_accuracy: 0.9291\n"
     ]
    }
   ],
   "source": [
    "\n",
    "# Configurer le callback TensorBoard\n",
    "tensorboard = TensorBoard(log_dir='./logs')\n",
    "\n",
    "history = model.fit(X_train, y_train, \n",
    "                    epochs=20,  # Nombre d'époques d'entraînement\n",
    "                     callbacks=[tensorboard],\n",
    "                    batch_size=32, \n",
    "                    validation_data=(X_test, y_test))\n"
   ]
  },
  {
   "cell_type": "code",
   "execution_count": 8,
   "metadata": {},
   "outputs": [
    {
     "name": "stdout",
     "output_type": "stream",
     "text": [
      "Model: \"sequential\"\n",
      "_________________________________________________________________\n",
      " Layer (type)                Output Shape              Param #   \n",
      "=================================================================\n",
      " dense (Dense)               (None, 64)                512       \n",
      "                                                                 \n",
      " dense_1 (Dense)             (None, 32)                2080      \n",
      "                                                                 \n",
      " dropout (Dropout)           (None, 32)                0         \n",
      "                                                                 \n",
      " dense_2 (Dense)             (None, 1)                 33        \n",
      "                                                                 \n",
      "=================================================================\n",
      "Total params: 2,625\n",
      "Trainable params: 2,625\n",
      "Non-trainable params: 0\n",
      "_________________________________________________________________\n"
     ]
    }
   ],
   "source": [
    "model.summary()"
   ]
  },
  {
   "cell_type": "code",
   "execution_count": 9,
   "metadata": {},
   "outputs": [
    {
     "name": "stdout",
     "output_type": "stream",
     "text": [
      "24/24 [==============================] - 1s 13ms/step\n",
      "[[324  26]\n",
      " [ 28 384]]\n",
      "              precision    recall  f1-score   support\n",
      "\n",
      "           0       0.92      0.93      0.92       350\n",
      "           1       0.94      0.93      0.93       412\n",
      "\n",
      "    accuracy                           0.93       762\n",
      "   macro avg       0.93      0.93      0.93       762\n",
      "weighted avg       0.93      0.93      0.93       762\n",
      "\n"
     ]
    }
   ],
   "source": [
    "y_pred = (model.predict(X_test) > 0.5).astype(\"int32\")  # Seuil pour binariser la sortie\n",
    "\n",
    "print(confusion_matrix(y_test, y_pred))\n",
    "print(classification_report(y_test, y_pred))\n"
   ]
  },
  {
   "cell_type": "code",
   "execution_count": 10,
   "metadata": {},
   "outputs": [],
   "source": [
    "# # Créer un explainer SHAP\n",
    "# explainer = shap.KernelExplainer(model.predict, X_train)\n",
    "\n",
    "# # Calculer les valeurs SHAP pour les données de test\n",
    "# shap_values = explainer.shap_values(X_test)\n",
    "\n",
    "# # Visualiser les valeurs SHAP pour chaque caractéristique\n",
    "# shap.summary_plot(shap_values, X_test, feature_names=X.columns)"
   ]
  },
  {
   "cell_type": "code",
   "execution_count": 11,
   "metadata": {},
   "outputs": [],
   "source": [
    "with open('model.pkl', 'wb') as f:\n",
    "    pickle.dump(model, f)"
   ]
  },
  {
   "cell_type": "code",
   "execution_count": 12,
   "metadata": {},
   "outputs": [
    {
     "data": {
      "image/png": "[encoded data removed]",
      "text/plain": [
       "<Figure size 1200x500 with 2 Axes>"
      ]
     },
     "metadata": {},
     "output_type": "display_data"
    }
   ],
   "source": [
    "import matplotlib.pyplot as plt\n",
    "\n",
    "# Plot de la précision\n",
    "plt.figure(figsize=(12, 5))\n",
    "\n",
    "plt.subplot(1, 2, 1)\n",
    "plt.plot(history.history['accuracy'], label='Train Accuracy')\n",
    "plt.plot(history.history['val_accuracy'], label='Validation Accuracy')\n",
    "plt.title('Accuracy')\n",
    "plt.xlabel('Epochs')\n",
    "plt.ylabel('Accuracy')\n",
    "plt.legend()\n",
    "\n",
    "# Plot de la perte\n",
    "plt.subplot(1, 2, 2)\n",
    "plt.plot(history.history['loss'], label='Train Loss')\n",
    "plt.plot(history.history['val_loss'], label='Validation Loss')\n",
    "plt.title('Loss')\n",
    "plt.xlabel('Epochs')\n",
    "plt.ylabel('Loss')\n",
    "plt.legend()\n",
    "\n",
    "plt.show()\n"
   ]
  },
  {
   "cell_type": "code",
   "execution_count": 13,
   "metadata": {},
   "outputs": [
    {
     "name": "stdout",
     "output_type": "stream",
     "text": [
      "24/24 [==============================] - 0s 13ms/step\n"
     ]
    },
    {
     "data": {
      "image/png": "[encoded data removed]",
      "text/plain": [
       "<Figure size 800x600 with 1 Axes>"
      ]
     },
     "metadata": {},
     "output_type": "display_data"
    }
   ],
   "source": [
    "\n",
    "\n",
    "# Prédictions sur les données de test\n",
    "y_pred = (model.predict(X_test) > 0.5).astype(\"int32\")\n",
    "\n",
    "# Calcul de la matrice de confusion\n",
    "conf_matrix = confusion_matrix(y_test, y_pred)\n",
    "\n",
    "# Tracé de la matrice de confusion\n",
    "plt.figure(figsize=(8, 6))\n",
    "sns.heatmap(conf_matrix, annot=True, fmt=\"d\", cmap=\"Blues\", cbar=False,\n",
    "            xticklabels=label_encoder.classes_, yticklabels=label_encoder.classes_)\n",
    "plt.xlabel('Predicted')\n",
    "plt.ylabel('Actual')\n",
    "plt.title('Confusion Matrix')\n",
    "plt.show()\n"
   ]
  },
  {
   "cell_type": "code",
   "execution_count": 14,
   "metadata": {},
   "outputs": [
    {
     "data": {
      "text/html": [
       "<div>\n",
       "<style scoped>\n",
       "    .dataframe tbody tr th:only-of-type {\n",
       "        vertical-align: middle;\n",
       "    }\n",
       "\n",
       "    .dataframe tbody tr th {\n",
       "        vertical-align: top;\n",
       "    }\n",
       "\n",
       "    .dataframe thead th {\n",
       "        text-align: right;\n",
       "    }\n",
       "</style>\n",
       "<table border=\"1\" class=\"dataframe\">\n",
       "  <thead>\n",
       "    <tr style=\"text-align: right;\">\n",
       "      <th></th>\n",
       "      <th>Area Integer</th>\n",
       "      <th>Perimeter Real</th>\n",
       "      <th>Major_Axis_Length Real</th>\n",
       "      <th>Minor_Axis_Length Real</th>\n",
       "      <th>Eccentricity Real</th>\n",
       "      <th>Convex_Area Integer</th>\n",
       "      <th>Extent Real</th>\n",
       "    </tr>\n",
       "  </thead>\n",
       "  <tbody>\n",
       "    <tr>\n",
       "      <th>0</th>\n",
       "      <td>15231</td>\n",
       "      <td>525.578979</td>\n",
       "      <td>229.749878</td>\n",
       "      <td>85.093788</td>\n",
       "      <td>0.928882</td>\n",
       "      <td>15617</td>\n",
       "      <td>0.572896</td>\n",
       "    </tr>\n",
       "    <tr>\n",
       "      <th>1</th>\n",
       "      <td>14656</td>\n",
       "      <td>494.311005</td>\n",
       "      <td>206.020065</td>\n",
       "      <td>91.730972</td>\n",
       "      <td>0.895405</td>\n",
       "      <td>15072</td>\n",
       "      <td>0.615436</td>\n",
       "    </tr>\n",
       "    <tr>\n",
       "      <th>2</th>\n",
       "      <td>14634</td>\n",
       "      <td>501.122009</td>\n",
       "      <td>214.106781</td>\n",
       "      <td>87.768288</td>\n",
       "      <td>0.912118</td>\n",
       "      <td>14954</td>\n",
       "      <td>0.693259</td>\n",
       "    </tr>\n",
       "    <tr>\n",
       "      <th>3</th>\n",
       "      <td>13176</td>\n",
       "      <td>458.342987</td>\n",
       "      <td>193.337387</td>\n",
       "      <td>87.448395</td>\n",
       "      <td>0.891861</td>\n",
       "      <td>13368</td>\n",
       "      <td>0.640669</td>\n",
       "    </tr>\n",
       "    <tr>\n",
       "      <th>4</th>\n",
       "      <td>14688</td>\n",
       "      <td>507.166992</td>\n",
       "      <td>211.743378</td>\n",
       "      <td>89.312454</td>\n",
       "      <td>0.906691</td>\n",
       "      <td>15262</td>\n",
       "      <td>0.646024</td>\n",
       "    </tr>\n",
       "  </tbody>\n",
       "</table>\n",
       "</div>"
      ],
      "text/plain": [
       "   Area Integer   Perimeter Real  Major_Axis_Length Real  \\\n",
       "0          15231      525.578979              229.749878   \n",
       "1          14656      494.311005              206.020065   \n",
       "2          14634      501.122009              214.106781   \n",
       "3          13176      458.342987              193.337387   \n",
       "4          14688      507.166992              211.743378   \n",
       "\n",
       "   Minor_Axis_Length Real  Eccentricity Real  Convex_Area Integer   \\\n",
       "0               85.093788           0.928882                 15617   \n",
       "1               91.730972           0.895405                 15072   \n",
       "2               87.768288           0.912118                 14954   \n",
       "3               87.448395           0.891861                 13368   \n",
       "4               89.312454           0.906691                 15262   \n",
       "\n",
       "   Extent Real  \n",
       "0     0.572896  \n",
       "1     0.615436  \n",
       "2     0.693259  \n",
       "3     0.640669  \n",
       "4     0.646024  "
      ]
     },
     "execution_count": 14,
     "metadata": {},
     "output_type": "execute_result"
    }
   ],
   "source": [
    "X.head()"
   ]
  }
 ],
 "metadata": {
  "kernelspec": {
   "display_name": "Python 3 (ipykernel)",
   "language": "python",
   "name": "python3"
  },
  "language_info": {
   "codemirror_mode": {
    "name": "ipython",
    "version": 3
   },
   "file_extension": ".py",
   "mimetype": "text/x-python",
   "name": "python",
   "nbconvert_exporter": "python",
   "pygments_lexer": "ipython3",
   "version": "3.10.13"
  }
 },
 "nbformat": 4,
 "nbformat_minor": 4
}
